{
 "cells": [
  {
   "cell_type": "code",
   "execution_count": 1,
   "metadata": {},
   "outputs": [],
   "source": [
    "import pandas as pd \n",
    "import numpy as np \n",
    "import matplotlib.pyplot as plt \n",
    "import seaborn as sns \n",
    "from scipy.signal import find_peaks\n",
    "from sklearn.preprocessing import StandardScaler\n",
    "from sklearn.tree import DecisionTreeClassifier\n",
    "from sklearn.ensemble import RandomForestClassifier\n",
    "from FeatureStatCalulateFile import FeatureStat\n",
    "from sklearn.metrics import accuracy_score, classification_report\n",
    "from mlxtend.plotting import plot_confusion_matrix"
   ]
  },
  {
   "cell_type": "code",
   "execution_count": 2,
   "metadata": {},
   "outputs": [],
   "source": [
    "# Preview of the Data: \n",
    "# Reading the data into a pandas data frame with defined column names and dropping null values will allow us to achive the processing above\n",
    "# Define column names\n",
    "column_names = ['user', 'activity', 'timestamp', 'x-axis', 'y-axis', 'z-axis']\n",
    "# Read the file, skipping bad lines\n",
    "data = pd.read_csv('data/WISDM_ar_v1.1_raw.txt', sep=',', names=column_names, on_bad_lines='skip')\n",
    "# drop null values: \n",
    "data = data.dropna()\n",
    "\n",
    "data['z-axis'] = data['z-axis'].str.rstrip(';').astype(float)"
   ]
  },
  {
   "cell_type": "code",
   "execution_count": 3,
   "metadata": {},
   "outputs": [],
   "source": [
    "# create window sizes: \n",
    "\n",
    "def get_windows(df, window_size, step_size):\n",
    "\n",
    "    x_list = []\n",
    "    y_list = []\n",
    "    z_list = []\n",
    "    activity_list = []\n",
    "    for i in range(0, df.shape[0] - window_size, step_size):\n",
    "        xs = df['x-axis'].values[i : i + window_size]\n",
    "        ys = df['y-axis'].values[i : i + window_size]\n",
    "        zs = df['z-axis'].values[i : i + window_size]\n",
    "        label = df['activity'][i : i + window_size].mode()[0]\n",
    "\n",
    "        x_list.append(xs)\n",
    "        y_list.append(ys)\n",
    "        z_list.append(zs)\n",
    "        activity_list.append(label)\n",
    "    return x_list, y_list, z_list, activity_list\n",
    "        "
   ]
  }
 ],
 "metadata": {
  "kernelspec": {
   "display_name": "ml-project",
   "language": "python",
   "name": "python3"
  },
  "language_info": {
   "codemirror_mode": {
    "name": "ipython",
    "version": 3
   },
   "file_extension": ".py",
   "mimetype": "text/x-python",
   "name": "python",
   "nbconvert_exporter": "python",
   "pygments_lexer": "ipython3",
   "version": "3.13.0"
  }
 },
 "nbformat": 4,
 "nbformat_minor": 2
}
